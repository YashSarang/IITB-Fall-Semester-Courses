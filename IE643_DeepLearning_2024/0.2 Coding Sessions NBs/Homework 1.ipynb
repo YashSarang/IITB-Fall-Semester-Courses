{
  "cells": [
    {
      "cell_type": "markdown",
      "source": [
        "#Import required packages"
      ],
      "metadata": {
        "id": "7pWUFqBqD2JP"
      }
    },
    {
      "cell_type": "code",
      "execution_count": null,
      "metadata": {
        "id": "VpoRS78t_YG7"
      },
      "outputs": [],
      "source": [
        "import numpy as np\n",
        "import matplotlib.pyplot as plt\n",
        "import random"
      ]
    },
    {
      "cell_type": "code",
      "source": [
        "#seed random number generator of numpy for reproducibility\n",
        "np.random.seed(1000)"
      ],
      "metadata": {
        "id": "EFhYg00oBkTI"
      },
      "execution_count": null,
      "outputs": []
    },
    {
      "cell_type": "markdown",
      "source": [
        "#Data Generation"
      ],
      "metadata": {
        "id": "UbEXQaAwBQtg"
      }
    },
    {
      "cell_type": "markdown",
      "source": [
        "1. Generate 10 two-dimensional data points from a multi-variate Gaussian distribution with mean [-1,-1] and identity covariance matrix. Label data points as class +1. Consider this labeled data set as $D_1$.  ($\\textbf{Hint:}$ Use numpy.random.multivariate_normal)"
      ],
      "metadata": {
        "id": "RpsFp0ADAQlO"
      }
    },
    {
      "cell_type": "code",
      "source": [
        "#Generate D_1"
      ],
      "metadata": {
        "id": "ewUGs6OtBVQf"
      },
      "execution_count": null,
      "outputs": []
    },
    {
      "cell_type": "markdown",
      "source": [
        "2. Generate 10 two-dimensional data points from a multi-variate Gaussian distribution with mean [2,2] and identity covariance matrix. Label data points as class -1. Consider this labeled data set as $D_2$."
      ],
      "metadata": {
        "id": "VMzG2JJLBVkz"
      }
    },
    {
      "cell_type": "code",
      "source": [
        "#Generate D_2"
      ],
      "metadata": {
        "id": "ISyEFMlLBYjh"
      },
      "execution_count": null,
      "outputs": []
    },
    {
      "cell_type": "markdown",
      "source": [
        "3. Construct $D=D_1 \\cup D_2$. Shuffle the data in $D$. (Hint: Use random.shuffle().)"
      ],
      "metadata": {
        "id": "_zc-fEyRCBI-"
      }
    },
    {
      "cell_type": "code",
      "source": [
        "#Construct D and shuffle."
      ],
      "metadata": {
        "id": "9kys1gOBDlFC"
      },
      "execution_count": null,
      "outputs": []
    },
    {
      "cell_type": "markdown",
      "source": [
        "#Data Visualization"
      ],
      "metadata": {
        "id": "X323eC7MGy62"
      }
    },
    {
      "cell_type": "markdown",
      "source": [
        "Write code to visualize the data $D$ you have generated. Use different colors for different classes. (Use matplotlib.pyplot.scatter to plot the points.)"
      ],
      "metadata": {
        "id": "LHP4fS3QG1pJ"
      }
    },
    {
      "cell_type": "code",
      "source": [
        "def plot_data(data):\n",
        "  #write code to plot the data points. Use different colors for different classes.\n",
        "  pass"
      ],
      "metadata": {
        "id": "KzI4a69LG0z6"
      },
      "execution_count": null,
      "outputs": []
    },
    {
      "cell_type": "markdown",
      "source": [
        "## Check for linear separability"
      ],
      "metadata": {
        "id": "tMwXv3GBGIyW"
      }
    },
    {
      "cell_type": "markdown",
      "source": [
        "Check using the visualization if the dataset is linearly separable."
      ],
      "metadata": {
        "id": "ihTrY6xYGMWv"
      }
    },
    {
      "cell_type": "markdown",
      "source": [
        "#Perceptron prediction function"
      ],
      "metadata": {
        "id": "F2aTQX9dD-De"
      }
    },
    {
      "cell_type": "markdown",
      "source": [
        "Write code to implement the prediction rule used in Perceptron. (Use the numpy function which helps in computing the dot product between two vectors.)"
      ],
      "metadata": {
        "id": "oWoQ8TEcD8Es"
      }
    },
    {
      "cell_type": "code",
      "execution_count": null,
      "metadata": {
        "id": "qeCo0wAB_YHA"
      },
      "outputs": [],
      "source": [
        "def perceptron_prediction(w, x):\n",
        "    #write code to compute the prediction for the example x using weight w\n",
        "    return prediction"
      ]
    },
    {
      "cell_type": "markdown",
      "source": [
        "#Function to update weights"
      ],
      "metadata": {
        "id": "6a9jDQ-qEC85"
      }
    },
    {
      "cell_type": "markdown",
      "source": [
        "Write code to implement the update rule for updating weights in perceptron learning algorithm. If there is a mistake in prediction made by perceptron, return is_mistake as True, otherwise return is_mistake as False."
      ],
      "metadata": {
        "id": "HH3oAlYCEMb4"
      }
    },
    {
      "cell_type": "code",
      "execution_count": null,
      "metadata": {
        "id": "ne0ohgNI_YHB"
      },
      "outputs": [],
      "source": [
        "def perceptron_update_weights(w, x, y, y_pred):\n",
        "    is_mistake = False\n",
        "    #check for mistake and set is_mistake flag accordingly\n",
        "    #and write code to update the weights in perceptron\n",
        "    return w, is_mistake"
      ]
    },
    {
      "cell_type": "markdown",
      "source": [
        "#Training procedure for perceptron"
      ],
      "metadata": {
        "id": "5NrLsVCBEJHz"
      }
    },
    {
      "cell_type": "markdown",
      "source": [
        "Complete the training procedure to train perceptron by adding appropriate code where required."
      ],
      "metadata": {
        "id": "CFIA67sBGfWc"
      }
    },
    {
      "cell_type": "code",
      "execution_count": null,
      "metadata": {
        "id": "08hi7UQS_YHB"
      },
      "outputs": [],
      "source": [
        "def train_perceptron(data):\n",
        "    #Initialize weights\n",
        "    #w = ??  # try randomly generating w or zero initialization\n",
        "    epochs=0 #useful for executing multiple passes over a finite data set\n",
        "    num_mistakes = 99 #some dummy value to get the while loop going\n",
        "    max_epochs = 100\n",
        "\n",
        "    while num_mistakes > 0 and epochs<max_epochs:   # until mistakes are not zero or number of epochs reach max_epochs\n",
        "        num_mistakes = 0\n",
        "        for i in range(len(data)):\n",
        "            #retrieve the feature vector x from data set D\n",
        "            # x =\n",
        "            #Append an additional constant feature 1 to x (Use np.concatenate)\n",
        "            # x =\n",
        "\n",
        "            y_hat = perceptron_prediction(w, x)\n",
        "\n",
        "            #retrieve the label y for x from data set D\n",
        "            # y =\n",
        "\n",
        "            w, is_mistake = perceptron_update_weights(w, x, y, y_hat)\n",
        "\n",
        "            if is_mistake:\n",
        "              num_mistakes += 1\n",
        "\n",
        "        epochs=epochs+1\n",
        "    return w"
      ]
    },
    {
      "cell_type": "markdown",
      "source": [
        "#Plotting the separating line"
      ],
      "metadata": {
        "id": "4obz-qQlD6DT"
      }
    },
    {
      "cell_type": "markdown",
      "source": [
        "Write code to plot the separating line along with the data."
      ],
      "metadata": {
        "id": "B9vTTWmMH1e8"
      }
    },
    {
      "cell_type": "code",
      "execution_count": null,
      "metadata": {
        "id": "UF3MW_5r_YG_"
      },
      "outputs": [],
      "source": [
        "def plot_data_with_separator(data, w):\n",
        "  #write required code. (You can reuse the code written for plotting the data points.)\n",
        "  pass"
      ]
    },
    {
      "cell_type": "markdown",
      "source": [
        "#Calling the Perceptron train function."
      ],
      "metadata": {
        "id": "i46n2f8eIcjD"
      }
    },
    {
      "cell_type": "code",
      "execution_count": null,
      "metadata": {
        "id": "fgZyu4VC_YHK"
      },
      "outputs": [],
      "source": [
        "w_final = train_perceptron(data)\n"
      ]
    },
    {
      "cell_type": "markdown",
      "source": [
        "#Calling the plot function to plot separator"
      ],
      "metadata": {
        "id": "1cwNJElLIneS"
      }
    },
    {
      "cell_type": "code",
      "source": [
        "plot_data_with_separator(data, w_final)"
      ],
      "metadata": {
        "id": "jyLZvy0wk9vn"
      },
      "execution_count": null,
      "outputs": []
    },
    {
      "cell_type": "markdown",
      "source": [
        "#Additional functionality (Optional):\n",
        "\n",
        "Illustrate the behavior of the separating line between the updates as contiguous plots or as animation. Highlight the data points which cause the update in the separating line orientations.\n",
        "\n"
      ],
      "metadata": {
        "id": "l5XomIo7SiW9"
      }
    },
    {
      "cell_type": "code",
      "source": [],
      "metadata": {
        "id": "WIwYty51Sy2p"
      },
      "execution_count": null,
      "outputs": []
    }
  ],
  "metadata": {
    "kernelspec": {
      "display_name": "Python 3",
      "language": "python",
      "name": "python3"
    },
    "language_info": {
      "codemirror_mode": {
        "name": "ipython",
        "version": 3
      },
      "file_extension": ".py",
      "mimetype": "text/x-python",
      "name": "python",
      "nbconvert_exporter": "python",
      "pygments_lexer": "ipython3",
      "version": "3.6.5"
    },
    "colab": {
      "provenance": []
    }
  },
  "nbformat": 4,
  "nbformat_minor": 0
}